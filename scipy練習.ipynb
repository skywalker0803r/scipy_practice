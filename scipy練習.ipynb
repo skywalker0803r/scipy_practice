{
  "nbformat": 4,
  "nbformat_minor": 0,
  "metadata": {
    "colab": {
      "name": "scipy練習.ipynb",
      "provenance": [],
      "collapsed_sections": [],
      "authorship_tag": "ABX9TyMZLOIF6qEMk9uwy7iWGWd2",
      "include_colab_link": true
    },
    "kernelspec": {
      "name": "python3",
      "display_name": "Python 3"
    }
  },
  "cells": [
    {
      "cell_type": "markdown",
      "metadata": {
        "id": "view-in-github",
        "colab_type": "text"
      },
      "source": [
        "<a href=\"https://colab.research.google.com/github/skywalker0803r/scipy_practice/blob/master/scipy%E7%B7%B4%E7%BF%92.ipynb\" target=\"_parent\"><img src=\"https://colab.research.google.com/assets/colab-badge.svg\" alt=\"Open In Colab\"/></a>"
      ]
    },
    {
      "cell_type": "code",
      "metadata": {
        "id": "M6EKnwKw0RXH",
        "colab_type": "code",
        "colab": {}
      },
      "source": [
        "import numpy as np\n",
        "from scipy import linalg\n",
        "import matplotlib.pyplot as plt\n",
        "import pandas as pd"
      ],
      "execution_count": 0,
      "outputs": []
    },
    {
      "cell_type": "markdown",
      "metadata": {
        "id": "4Dndtv2m1HKK",
        "colab_type": "text"
      },
      "source": [
        "##解線性聯立方程式 <br>\n",
        "$2x + y = 3$ <br>\n",
        "$3x + 2y = 5$"
      ]
    },
    {
      "cell_type": "code",
      "metadata": {
        "id": "xcFo7fZo0arX",
        "colab_type": "code",
        "outputId": "dfea3ffb-0738-4426-f7ad-9665c8f5f86f",
        "colab": {
          "base_uri": "https://localhost:8080/",
          "height": 34
        }
      },
      "source": [
        "coeff = np.array([[2,1],[3,2]])\n",
        "deps = np.array([3,5])\n",
        "linalg.solve(coeff,deps)"
      ],
      "execution_count": 2,
      "outputs": [
        {
          "output_type": "execute_result",
          "data": {
            "text/plain": [
              "array([1., 1.])"
            ]
          },
          "metadata": {
            "tags": []
          },
          "execution_count": 2
        }
      ]
    },
    {
      "cell_type": "markdown",
      "metadata": {
        "id": "WTI9gR7w14BQ",
        "colab_type": "text"
      },
      "source": [
        "# 計算行列式"
      ]
    },
    {
      "cell_type": "code",
      "metadata": {
        "id": "bqd-zYux0ub2",
        "colab_type": "code",
        "outputId": "6c3e82e5-3669-4eff-d906-d036536d06dc",
        "colab": {
          "base_uri": "https://localhost:8080/",
          "height": 34
        }
      },
      "source": [
        "A = np.array([[1,2],[3,4]]) # (1*4) - (2*3) = 4 - 6 = -2\n",
        "linalg.det(A)"
      ],
      "execution_count": 3,
      "outputs": [
        {
          "output_type": "execute_result",
          "data": {
            "text/plain": [
              "-2.0"
            ]
          },
          "metadata": {
            "tags": []
          },
          "execution_count": 3
        }
      ]
    },
    {
      "cell_type": "markdown",
      "metadata": {
        "id": "tH6DsMkY3scW",
        "colab_type": "text"
      },
      "source": [
        "# 特徵值和特徵向量"
      ]
    },
    {
      "cell_type": "code",
      "metadata": {
        "id": "ToxoTdLU3bH_",
        "colab_type": "code",
        "outputId": "d1157e6a-1d44-403d-8b1c-5648f34a8e0a",
        "colab": {
          "base_uri": "https://localhost:8080/",
          "height": 68
        }
      },
      "source": [
        "A = np.array([[1,2],[3,4]]) \n",
        "l,v = linalg.eig(A)\n",
        "print('特徵值',l)\n",
        "print('特徵向量',v)"
      ],
      "execution_count": 4,
      "outputs": [
        {
          "output_type": "stream",
          "text": [
            "特徵值 [-0.37228132+0.j  5.37228132+0.j]\n",
            "特徵向量 [[-0.82456484 -0.41597356]\n",
            " [ 0.56576746 -0.90937671]]\n"
          ],
          "name": "stdout"
        }
      ]
    },
    {
      "cell_type": "markdown",
      "metadata": {
        "id": "1vu9nZzL4Bl6",
        "colab_type": "text"
      },
      "source": [
        "# scipy 統計模組"
      ]
    },
    {
      "cell_type": "code",
      "metadata": {
        "id": "CHsFiSAC37qC",
        "colab_type": "code",
        "colab": {}
      },
      "source": [
        "from scipy import stats"
      ],
      "execution_count": 0,
      "outputs": []
    },
    {
      "cell_type": "markdown",
      "metadata": {
        "id": "xl9pbAkF7UmP",
        "colab_type": "text"
      },
      "source": [
        "# 產生一個機率分布模型"
      ]
    },
    {
      "cell_type": "code",
      "metadata": {
        "id": "Y6Nex3Ix7UuD",
        "colab_type": "code",
        "outputId": "c1cfa06f-d98b-4b1c-d802-be5f5950627d",
        "colab": {
          "base_uri": "https://localhost:8080/",
          "height": 34
        }
      },
      "source": [
        "rv = stats.randint(low=1,high=11)\n",
        "rv"
      ],
      "execution_count": 6,
      "outputs": [
        {
          "output_type": "execute_result",
          "data": {
            "text/plain": [
              "<scipy.stats._distn_infrastructure.rv_frozen at 0x7f391fe16390>"
            ]
          },
          "metadata": {
            "tags": []
          },
          "execution_count": 6
        }
      ]
    },
    {
      "cell_type": "markdown",
      "metadata": {
        "id": "_dG1nrfj4uwZ",
        "colab_type": "text"
      },
      "source": [
        "# 隨機產生樣本"
      ]
    },
    {
      "cell_type": "code",
      "metadata": {
        "id": "3fYp18KE4NPv",
        "colab_type": "code",
        "outputId": "19d65d0b-7873-44b1-a76c-f6cf4a38fbeb",
        "colab": {
          "base_uri": "https://localhost:8080/",
          "height": 34
        }
      },
      "source": [
        "x = rv.rvs(size=5)\n",
        "print(x)"
      ],
      "execution_count": 7,
      "outputs": [
        {
          "output_type": "stream",
          "text": [
            "[ 7 10  8  6  5]\n"
          ],
          "name": "stdout"
        }
      ]
    },
    {
      "cell_type": "markdown",
      "metadata": {
        "id": "tr1JPVua45iL",
        "colab_type": "text"
      },
      "source": [
        "# 機率質量函數 pmf"
      ]
    },
    {
      "cell_type": "code",
      "metadata": {
        "id": "CwwAc35l4TDK",
        "colab_type": "code",
        "outputId": "028a4396-83c3-4447-b688-406b56426d19",
        "colab": {
          "base_uri": "https://localhost:8080/",
          "height": 296
        }
      },
      "source": [
        "x = [*range(1,11,1)]\n",
        "print(x)\n",
        "pd.Series(rv.pmf(x)).plot(kind='bar')"
      ],
      "execution_count": 8,
      "outputs": [
        {
          "output_type": "stream",
          "text": [
            "[1, 2, 3, 4, 5, 6, 7, 8, 9, 10]\n"
          ],
          "name": "stdout"
        },
        {
          "output_type": "execute_result",
          "data": {
            "text/plain": [
              "<matplotlib.axes._subplots.AxesSubplot at 0x7f391fe16fd0>"
            ]
          },
          "metadata": {
            "tags": []
          },
          "execution_count": 8
        },
        {
          "output_type": "display_data",
          "data": {
            "image/png": "[encoded data removed]",
            "text/plain": [
              "<Figure size 432x288 with 1 Axes>"
            ]
          },
          "metadata": {
            "tags": []
          }
        }
      ]
    },
    {
      "cell_type": "markdown",
      "metadata": {
        "id": "x6wMb8lu5Hl7",
        "colab_type": "text"
      },
      "source": [
        "# 累積分布函數"
      ]
    },
    {
      "cell_type": "code",
      "metadata": {
        "id": "OV0ClKsu5Bsd",
        "colab_type": "code",
        "outputId": "2934c2fe-1b8a-458e-9e46-3af14c093b49",
        "colab": {
          "base_uri": "https://localhost:8080/",
          "height": 296
        }
      },
      "source": [
        "x = [*range(1,11,1)]\n",
        "print(x)\n",
        "pd.Series(rv.cdf(x)).plot(kind='bar')"
      ],
      "execution_count": 9,
      "outputs": [
        {
          "output_type": "stream",
          "text": [
            "[1, 2, 3, 4, 5, 6, 7, 8, 9, 10]\n"
          ],
          "name": "stdout"
        },
        {
          "output_type": "execute_result",
          "data": {
            "text/plain": [
              "<matplotlib.axes._subplots.AxesSubplot at 0x7f391fa0c940>"
            ]
          },
          "metadata": {
            "tags": []
          },
          "execution_count": 9
        },
        {
          "output_type": "display_data",
          "data": {
            "image/png": "[encoded data removed]",
            "text/plain": [
              "<Figure size 432x288 with 1 Axes>"
            ]
          },
          "metadata": {
            "tags": []
          }
        }
      ]
    },
    {
      "cell_type": "markdown",
      "metadata": {
        "id": "DkLx_F096uBO",
        "colab_type": "text"
      },
      "source": [
        "# 百分比函數"
      ]
    },
    {
      "cell_type": "code",
      "metadata": {
        "id": "9n-erxLq5Mhh",
        "colab_type": "code",
        "outputId": "90697a3c-a363-41cd-dde5-d715789e77e5",
        "colab": {
          "base_uri": "https://localhost:8080/",
          "height": 296
        }
      },
      "source": [
        "x = [*np.arange(0.1,1.0,0.1)]\n",
        "print(x)\n",
        "pd.Series(rv.ppf(x)).plot(kind='bar')"
      ],
      "execution_count": 10,
      "outputs": [
        {
          "output_type": "stream",
          "text": [
            "[0.1, 0.2, 0.30000000000000004, 0.4, 0.5, 0.6, 0.7000000000000001, 0.8, 0.9]\n"
          ],
          "name": "stdout"
        },
        {
          "output_type": "execute_result",
          "data": {
            "text/plain": [
              "<matplotlib.axes._subplots.AxesSubplot at 0x7f391f537d68>"
            ]
          },
          "metadata": {
            "tags": []
          },
          "execution_count": 10
        },
        {
          "output_type": "display_data",
          "data": {
            "image/png": "[encoded data removed]",
            "text/plain": [
              "<Figure size 432x288 with 1 Axes>"
            ]
          },
          "metadata": {
            "tags": []
          }
        }
      ]
    },
    {
      "cell_type": "markdown",
      "metadata": {
        "id": "AD0svwfI7fq0",
        "colab_type": "text"
      },
      "source": [
        "# 算術平均數,變異數,標準差,中位數"
      ]
    },
    {
      "cell_type": "code",
      "metadata": {
        "id": "Bbe8NRuf6x2C",
        "colab_type": "code",
        "outputId": "e704d419-a4b1-40cb-c289-bc1979beb4a4",
        "colab": {
          "base_uri": "https://localhost:8080/",
          "height": 85
        }
      },
      "source": [
        "print(rv.mean())\n",
        "print(rv.var())\n",
        "print(rv.std())\n",
        "print(rv.median())"
      ],
      "execution_count": 11,
      "outputs": [
        {
          "output_type": "stream",
          "text": [
            "5.5\n",
            "8.25\n",
            "2.8722813232690143\n",
            "5.0\n"
          ],
          "name": "stdout"
        }
      ]
    },
    {
      "cell_type": "markdown",
      "metadata": {
        "id": "YbJTy_6F8SWS",
        "colab_type": "text"
      },
      "source": [
        "# 二項分布 機率質量函數圖"
      ]
    },
    {
      "cell_type": "code",
      "metadata": {
        "id": "MfPz9I6U7ikD",
        "colab_type": "code",
        "outputId": "1a86526b-c13f-4318-f2c8-bb6c6741e991",
        "colab": {
          "base_uri": "https://localhost:8080/",
          "height": 265
        }
      },
      "source": [
        "for n in [100,200]:\n",
        "  for p in [0.3,0.7]:\n",
        "    #產生分布\n",
        "    distribution = stats.binom(n,p)\n",
        "    #產生樣本\n",
        "    x = np.arange(n)\n",
        "    #繪圖\n",
        "    plt.plot(distribution.pmf(x),'-o',label='p={},n={}'.format(p,n))\n",
        "plt.legend()\n",
        "plt.show()"
      ],
      "execution_count": 12,
      "outputs": [
        {
          "output_type": "display_data",
          "data": {
            "image/png": "[encoded data removed]",
            "text/plain": [
              "<Figure size 432x288 with 1 Axes>"
            ]
          },
          "metadata": {
            "tags": []
          }
        }
      ]
    },
    {
      "cell_type": "markdown",
      "metadata": {
        "id": "Th3Q-3QAAhy-",
        "colab_type": "text"
      },
      "source": [
        "# 二項分布 累積機率質量函數圖"
      ]
    },
    {
      "cell_type": "code",
      "metadata": {
        "id": "ymS6bggh8uX7",
        "colab_type": "code",
        "outputId": "a15abb53-6cc1-49fc-e10a-59942b7a10d0",
        "colab": {
          "base_uri": "https://localhost:8080/",
          "height": 265
        }
      },
      "source": [
        "for n in [100,200]:\n",
        "  for p in [0.3,0.7]:\n",
        "    #產生分布\n",
        "    distribution = stats.binom(n,p)\n",
        "    #產生樣本\n",
        "    x = np.arange(n)\n",
        "    #繪圖\n",
        "    plt.plot(distribution.cdf(x),'-o',label='p={},n={}'.format(p,n))\n",
        "plt.legend()\n",
        "plt.show()"
      ],
      "execution_count": 13,
      "outputs": [
        {
          "output_type": "display_data",
          "data": {
            "image/png": "[encoded data removed]",
            "text/plain": [
              "<Figure size 432x288 with 1 Axes>"
            ]
          },
          "metadata": {
            "tags": []
          }
        }
      ]
    },
    {
      "cell_type": "markdown",
      "metadata": {
        "id": "WE3qX7CPAoGT",
        "colab_type": "text"
      },
      "source": [
        "# 連續常態分佈"
      ]
    },
    {
      "cell_type": "code",
      "metadata": {
        "id": "V8V50unLXXmu",
        "colab_type": "code",
        "outputId": "760b3090-39e4-4ec6-9f9c-7f78fda7a2d5",
        "colab": {
          "base_uri": "https://localhost:8080/",
          "height": 34
        }
      },
      "source": [
        "distribution = stats.norm(loc=0,scale=1)\n",
        "distribution"
      ],
      "execution_count": 14,
      "outputs": [
        {
          "output_type": "execute_result",
          "data": {
            "text/plain": [
              "<scipy.stats._distn_infrastructure.rv_frozen at 0x7f3929b06f60>"
            ]
          },
          "metadata": {
            "tags": []
          },
          "execution_count": 14
        }
      ]
    },
    {
      "cell_type": "markdown",
      "metadata": {
        "id": "jru0e4zMXVkO",
        "colab_type": "text"
      },
      "source": [
        "# 產生隨機樣本"
      ]
    },
    {
      "cell_type": "code",
      "metadata": {
        "id": "kKgNRxr3AFuI",
        "colab_type": "code",
        "outputId": "83e0c6d9-040d-489f-a6f4-f5e903bc7214",
        "colab": {
          "base_uri": "https://localhost:8080/",
          "height": 34
        }
      },
      "source": [
        "distribution.rvs(size=5)"
      ],
      "execution_count": 15,
      "outputs": [
        {
          "output_type": "execute_result",
          "data": {
            "text/plain": [
              "array([ 0.62565048, -1.23101477, -0.02160206, -0.89719024,  0.8814631 ])"
            ]
          },
          "metadata": {
            "tags": []
          },
          "execution_count": 15
        }
      ]
    },
    {
      "cell_type": "markdown",
      "metadata": {
        "id": "DL8UnVrwXv-n",
        "colab_type": "text"
      },
      "source": [
        "# 機率質量函數 pmf"
      ]
    },
    {
      "cell_type": "code",
      "metadata": {
        "id": "gKLRx5_GXnEC",
        "colab_type": "code",
        "outputId": "fb800895-ffc1-4fd9-8ed4-59c73ab50ae1",
        "colab": {
          "base_uri": "https://localhost:8080/",
          "height": 319
        }
      },
      "source": [
        "x = [*np.arange(-5,5,0.1)]\n",
        "print(x)\n",
        "pd.Series(distribution.pdf(x)).plot(kind='line')"
      ],
      "execution_count": 16,
      "outputs": [
        {
          "output_type": "stream",
          "text": [
            "[-5.0, -4.9, -4.800000000000001, -4.700000000000001, -4.600000000000001, -4.500000000000002, -4.400000000000002, -4.3000000000000025, -4.200000000000003, -4.100000000000003, -4.0000000000000036, -3.900000000000004, -3.8000000000000043, -3.7000000000000046, -3.600000000000005, -3.5000000000000053, -3.4000000000000057, -3.300000000000006, -3.2000000000000064, -3.1000000000000068, -3.000000000000007, -2.9000000000000075, -2.800000000000008, -2.700000000000008, -2.6000000000000085, -2.500000000000009, -2.4000000000000092, -2.3000000000000096, -2.20000000000001, -2.1000000000000103, -2.0000000000000107, -1.900000000000011, -1.8000000000000114, -1.7000000000000117, -1.600000000000012, -1.5000000000000124, -1.4000000000000128, -1.3000000000000131, -1.2000000000000135, -1.1000000000000139, -1.0000000000000142, -0.9000000000000146, -0.8000000000000149, -0.7000000000000153, -0.6000000000000156, -0.500000000000016, -0.40000000000001634, -0.3000000000000167, -0.20000000000001705, -0.10000000000001741, -1.7763568394002505e-14, 0.09999999999998188, 0.19999999999998153, 0.29999999999998117, 0.3999999999999808, 0.49999999999998046, 0.5999999999999801, 0.6999999999999797, 0.7999999999999794, 0.899999999999979, 0.9999999999999787, 1.0999999999999783, 1.199999999999978, 1.2999999999999776, 1.3999999999999773, 1.499999999999977, 1.5999999999999766, 1.6999999999999762, 1.7999999999999758, 1.8999999999999755, 1.9999999999999751, 2.0999999999999748, 2.1999999999999744, 2.299999999999974, 2.3999999999999737, 2.4999999999999734, 2.599999999999973, 2.6999999999999726, 2.7999999999999723, 2.899999999999972, 2.9999999999999716, 3.0999999999999712, 3.199999999999971, 3.2999999999999705, 3.39999999999997, 3.49999999999997, 3.5999999999999694, 3.699999999999969, 3.7999999999999687, 3.8999999999999684, 3.999999999999968, 4.099999999999968, 4.199999999999967, 4.299999999999967, 4.399999999999967, 4.499999999999966, 4.599999999999966, 4.6999999999999655, 4.799999999999965, 4.899999999999965]\n"
          ],
          "name": "stdout"
        },
        {
          "output_type": "execute_result",
          "data": {
            "text/plain": [
              "<matplotlib.axes._subplots.AxesSubplot at 0x7f391f3740b8>"
            ]
          },
          "metadata": {
            "tags": []
          },
          "execution_count": 16
        },
        {
          "output_type": "display_data",
          "data": {
            "image/png": "[encoded data removed]",
            "text/plain": [
              "<Figure size 432x288 with 1 Axes>"
            ]
          },
          "metadata": {
            "tags": []
          }
        }
      ]
    },
    {
      "cell_type": "markdown",
      "metadata": {
        "id": "52mPtnTsYThU",
        "colab_type": "text"
      },
      "source": [
        "# 累積分布函數"
      ]
    },
    {
      "cell_type": "code",
      "metadata": {
        "id": "Q45HnTzjX1Pb",
        "colab_type": "code",
        "outputId": "cbda4822-2123-4578-8e8f-6ac03ce444ac",
        "colab": {
          "base_uri": "https://localhost:8080/",
          "height": 319
        }
      },
      "source": [
        "x = [*np.arange(-5,5,0.1)]\n",
        "print(x)\n",
        "pd.Series(distribution.cdf(x)).plot(kind='line')"
      ],
      "execution_count": 17,
      "outputs": [
        {
          "output_type": "stream",
          "text": [
            "[-5.0, -4.9, -4.800000000000001, -4.700000000000001, -4.600000000000001, -4.500000000000002, -4.400000000000002, -4.3000000000000025, -4.200000000000003, -4.100000000000003, -4.0000000000000036, -3.900000000000004, -3.8000000000000043, -3.7000000000000046, -3.600000000000005, -3.5000000000000053, -3.4000000000000057, -3.300000000000006, -3.2000000000000064, -3.1000000000000068, -3.000000000000007, -2.9000000000000075, -2.800000000000008, -2.700000000000008, -2.6000000000000085, -2.500000000000009, -2.4000000000000092, -2.3000000000000096, -2.20000000000001, -2.1000000000000103, -2.0000000000000107, -1.900000000000011, -1.8000000000000114, -1.7000000000000117, -1.600000000000012, -1.5000000000000124, -1.4000000000000128, -1.3000000000000131, -1.2000000000000135, -1.1000000000000139, -1.0000000000000142, -0.9000000000000146, -0.8000000000000149, -0.7000000000000153, -0.6000000000000156, -0.500000000000016, -0.40000000000001634, -0.3000000000000167, -0.20000000000001705, -0.10000000000001741, -1.7763568394002505e-14, 0.09999999999998188, 0.19999999999998153, 0.29999999999998117, 0.3999999999999808, 0.49999999999998046, 0.5999999999999801, 0.6999999999999797, 0.7999999999999794, 0.899999999999979, 0.9999999999999787, 1.0999999999999783, 1.199999999999978, 1.2999999999999776, 1.3999999999999773, 1.499999999999977, 1.5999999999999766, 1.6999999999999762, 1.7999999999999758, 1.8999999999999755, 1.9999999999999751, 2.0999999999999748, 2.1999999999999744, 2.299999999999974, 2.3999999999999737, 2.4999999999999734, 2.599999999999973, 2.6999999999999726, 2.7999999999999723, 2.899999999999972, 2.9999999999999716, 3.0999999999999712, 3.199999999999971, 3.2999999999999705, 3.39999999999997, 3.49999999999997, 3.5999999999999694, 3.699999999999969, 3.7999999999999687, 3.8999999999999684, 3.999999999999968, 4.099999999999968, 4.199999999999967, 4.299999999999967, 4.399999999999967, 4.499999999999966, 4.599999999999966, 4.6999999999999655, 4.799999999999965, 4.899999999999965]\n"
          ],
          "name": "stdout"
        },
        {
          "output_type": "execute_result",
          "data": {
            "text/plain": [
              "<matplotlib.axes._subplots.AxesSubplot at 0x7f391f4cfe80>"
            ]
          },
          "metadata": {
            "tags": []
          },
          "execution_count": 17
        },
        {
          "output_type": "display_data",
          "data": {
            "image/png": "[encoded data removed]",
            "text/plain": [
              "<Figure size 432x288 with 1 Axes>"
            ]
          },
          "metadata": {
            "tags": []
          }
        }
      ]
    },
    {
      "cell_type": "markdown",
      "metadata": {
        "id": "MM4yLAN_Ym0u",
        "colab_type": "text"
      },
      "source": [
        "# 百分比函數"
      ]
    },
    {
      "cell_type": "code",
      "metadata": {
        "id": "a5P1UtJVYYkz",
        "colab_type": "code",
        "outputId": "d72546f2-2a95-4f12-f39f-722ef5acf438",
        "colab": {
          "base_uri": "https://localhost:8080/",
          "height": 299
        }
      },
      "source": [
        "x = [*np.arange(0.1,1.0,0.1)]\n",
        "print(x)\n",
        "pd.Series(distribution.ppf(x)).plot(kind='line')"
      ],
      "execution_count": 18,
      "outputs": [
        {
          "output_type": "stream",
          "text": [
            "[0.1, 0.2, 0.30000000000000004, 0.4, 0.5, 0.6, 0.7000000000000001, 0.8, 0.9]\n"
          ],
          "name": "stdout"
        },
        {
          "output_type": "execute_result",
          "data": {
            "text/plain": [
              "<matplotlib.axes._subplots.AxesSubplot at 0x7f391f2b3198>"
            ]
          },
          "metadata": {
            "tags": []
          },
          "execution_count": 18
        },
        {
          "output_type": "display_data",
          "data": {
            "image/png": "[encoded data removed]",
            "text/plain": [
              "<Figure size 432x288 with 1 Axes>"
            ]
          },
          "metadata": {
            "tags": []
          }
        }
      ]
    },
    {
      "cell_type": "markdown",
      "metadata": {
        "id": "UpKulhQeY_uC",
        "colab_type": "text"
      },
      "source": [
        "# 算術平均數,變異數,標準差,中位數"
      ]
    },
    {
      "cell_type": "code",
      "metadata": {
        "id": "i-R-Vx8xYrQO",
        "colab_type": "code",
        "outputId": "c07f03b2-b8fa-4265-e1ff-3b80e282571f",
        "colab": {
          "base_uri": "https://localhost:8080/",
          "height": 85
        }
      },
      "source": [
        "print(distribution.mean())\n",
        "print(distribution.var())\n",
        "print(distribution.std())\n",
        "print(distribution.median())"
      ],
      "execution_count": 19,
      "outputs": [
        {
          "output_type": "stream",
          "text": [
            "0.0\n",
            "1.0\n",
            "1.0\n",
            "0.0\n"
          ],
          "name": "stdout"
        }
      ]
    },
    {
      "cell_type": "markdown",
      "metadata": {
        "id": "n2gYRf7RZaa3",
        "colab_type": "text"
      },
      "source": [
        "# 從連續常態分布採樣樣本"
      ]
    },
    {
      "cell_type": "code",
      "metadata": {
        "id": "nzmZoobbZGhp",
        "colab_type": "code",
        "outputId": "dd1b928d-0f57-4fb9-8767-14da63ba24f2",
        "colab": {
          "base_uri": "https://localhost:8080/",
          "height": 279
        }
      },
      "source": [
        "# 採樣樣本\n",
        "x = distribution.rvs(size=1000)\n",
        "plt.hist(x,density=True)\n",
        "# 機率密度函數\n",
        "xs = np.linspace(-3,3,100)\n",
        "plt.plot(xs,distribution.pdf(xs),'r-')\n",
        "#繪圖\n",
        "plt.xlabel('value')\n",
        "plt.ylabel('times')\n",
        "plt.show()"
      ],
      "execution_count": 20,
      "outputs": [
        {
          "output_type": "display_data",
          "data": {
            "image/png": "[encoded data removed]",
            "text/plain": [
              "<Figure size 432x288 with 1 Axes>"
            ]
          },
          "metadata": {
            "tags": []
          }
        }
      ]
    },
    {
      "cell_type": "markdown",
      "metadata": {
        "id": "3dKvg5frathB",
        "colab_type": "text"
      },
      "source": [
        "# 計算落在 -2~2之間的機率值"
      ]
    },
    {
      "cell_type": "code",
      "metadata": {
        "id": "T0Mt4OCdZjU9",
        "colab_type": "code",
        "outputId": "a67fd645-f707-4454-f478-810d8e3a5b16",
        "colab": {
          "base_uri": "https://localhost:8080/",
          "height": 299
        }
      },
      "source": [
        "from scipy.integrate import trapz\n",
        "\n",
        "# 畫紅線\n",
        "x = np.linspace(-3,3,100)\n",
        "plt.plot(x,stats.norm.pdf(x),'r-')\n",
        "\n",
        "# 算黃色區域面積(機率)\n",
        "xs = np.linspace(-2,2,100)\n",
        "p = trapz(stats.norm.pdf(xs),xs)\n",
        "\n",
        "# 算法2\n",
        "p = stats.norm.cdf(2) - stats.norm.cdf(-2) \n",
        "\n",
        "# 打印機率\n",
        "print('機率等於',100*p,'%')\n",
        "\n",
        "# 把黃色區域填滿黃色\n",
        "plt.fill_between(x=xs,y1=stats.norm.pdf(xs),color='yellow')"
      ],
      "execution_count": 21,
      "outputs": [
        {
          "output_type": "stream",
          "text": [
            "機率等於 95.44997361036415 %\n"
          ],
          "name": "stdout"
        },
        {
          "output_type": "execute_result",
          "data": {
            "text/plain": [
              "<matplotlib.collections.PolyCollection at 0x7f391f20ef60>"
            ]
          },
          "metadata": {
            "tags": []
          },
          "execution_count": 21
        },
        {
          "output_type": "display_data",
          "data": {
            "image/png": "[encoded data removed]",
            "text/plain": [
              "<Figure size 432x288 with 1 Axes>"
            ]
          },
          "metadata": {
            "tags": []
          }
        }
      ]
    },
    {
      "cell_type": "code",
      "metadata": {
        "id": "Ifu9s-FXbS6U",
        "colab_type": "code",
        "colab": {}
      },
      "source": [
        ""
      ],
      "execution_count": 0,
      "outputs": []
    },
    {
      "cell_type": "code",
      "metadata": {
        "id": "tdB6Vhb92dCd",
        "colab_type": "code",
        "colab": {}
      },
      "source": [
        ""
      ],
      "execution_count": 0,
      "outputs": []
    }
  ]
}